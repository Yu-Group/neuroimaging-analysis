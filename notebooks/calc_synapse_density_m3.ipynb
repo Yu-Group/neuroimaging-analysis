{
 "cells": [
  {
   "cell_type": "code",
   "execution_count": 7,
   "metadata": {},
   "outputs": [
    {
     "name": "stdout",
     "output_type": "stream",
     "text": [
      "The autoreload extension is already loaded. To reload it, use:\n",
      "  %reload_ext autoreload\n"
     ]
    }
   ],
   "source": [
    "%load_ext autoreload\n",
    "%autoreload 2\n",
    "\n",
    "from os.path import join as oj\n",
    "from skimage.io import imshow\n",
    "\n",
    "import sys\n",
    "sys.path.append('../src')\n",
    "from puncta import *\n",
    "from util import *\n",
    "\n",
    "data_dir = '/clusterfs/fiona/yugroup/exllsm'\n",
    "out_dir = '/clusterfs/fiona/jpduncan/output'\n",
    "m3 = 'm3_Sample4/slice-tiff'"
   ]
  },
  {
   "cell_type": "code",
   "execution_count": 8,
   "metadata": {},
   "outputs": [
    {
     "name": "stdout",
     "output_type": "stream",
     "text": [
      "Reading 100 slices from /clusterfs/fiona/yugroup/exllsm/m3_Sample4/slice-tiff/ch0, starting at 0.tif\n"
     ]
    },
    {
     "name": "stderr",
     "output_type": "stream",
     "text": [
      "100%|██████████| 99/99 [00:10<00:00,  9.57it/s]\n"
     ]
    },
    {
     "name": "stdout",
     "output_type": "stream",
     "text": [
      "Volume shape: (100, 4113, 3170)\n",
      "Reading 100 slices from /clusterfs/fiona/yugroup/exllsm/m3_Sample4/slice-tiff/ch1, starting at 0.tif\n"
     ]
    },
    {
     "name": "stderr",
     "output_type": "stream",
     "text": [
      "100%|██████████| 99/99 [00:09<00:00, 10.14it/s]\n"
     ]
    },
    {
     "name": "stdout",
     "output_type": "stream",
     "text": [
      "Volume shape: (100, 4113, 3170)\n",
      "CPU times: user 8.78 s, sys: 11.8 s, total: 20.6 s\n",
      "Wall time: 21.7 s\n"
     ]
    }
   ],
   "source": [
    "%%time\n",
    "\n",
    "m3_ch0 = read_vol(oj(data_dir, m3, 'ch0'), n_slices=100, verbose=True)\n",
    "m3_ch1 = read_vol(oj(data_dir, m3, 'ch1'), n_slices=100, verbose=True)\n",
    "# m3_ch2 = read_vol(oj(data_dir, m3, 'ch2'), n_slices=100, verbose=True)"
   ]
  },
  {
   "cell_type": "code",
   "execution_count": 9,
   "metadata": {},
   "outputs": [
    {
     "name": "stdout",
     "output_type": "stream",
     "text": [
      "Otsu's threshold: 11.949\n",
      "Duration of \"apply_threshold\" call: 1.46e+02s\n",
      "Duration of \"filter_small_artifacts\" call: 1.17e+02s\n",
      "Duration of \"regionprops_table\" call: 30.9s\n",
      "Duration of \"KDTree\" call: 0.00133s\n",
      "Duration of \"KDTree.query_radius\" call: 0.00571s\n",
      "CPU times: user 4min, sys: 2min 27s, total: 6min 28s\n",
      "Wall time: 6min 31s\n"
     ]
    }
   ],
   "source": [
    "%%time\n",
    "# about 6 minutes for 100 slices\n",
    "ch0_dict = calc_synapse_density(m3_ch0, find_local_max=False, verbose=True, save_filepath=oj(out_dir, 'm3', 'ch0_calc_synapse_density.pkl'))"
   ]
  },
  {
   "cell_type": "code",
   "execution_count": 10,
   "metadata": {},
   "outputs": [
    {
     "name": "stdout",
     "output_type": "stream",
     "text": [
      "Otsu's threshold: 5.027\n",
      "Duration of \"apply_threshold\" call: 1.3e+02s\n",
      "Duration of \"filter_small_artifacts\" call: 1.47e+02s\n",
      "Duration of \"regionprops_table\" call: 5.0s\n",
      "Duration of \"KDTree\" call: 0.00225s\n",
      "Duration of \"KDTree.query_radius\" call: 0.0193s\n",
      "CPU times: user 3min 48s, sys: 2min 28s, total: 6min 16s\n",
      "Wall time: 6min 18s\n"
     ]
    }
   ],
   "source": [
    "%%time\n",
    "# about 6 minutes for 100 slices\n",
    "ch1_dict = calc_synapse_density(m3_ch1, find_local_max=False, verbose=True, save_filepath=oj(out_dir, 'm3', 'ch1_calc_synapse_density.pkl'))"
   ]
  },
  {
   "cell_type": "code",
   "execution_count": null,
   "metadata": {},
   "outputs": [],
   "source": []
  }
 ],
 "metadata": {
  "kernelspec": {
   "display_name": "Python 3.9 [conda:neurohub]",
   "language": "python",
   "name": "neurohub"
  },
  "language_info": {
   "codemirror_mode": {
    "name": "ipython",
    "version": 3
   },
   "file_extension": ".py",
   "mimetype": "text/x-python",
   "name": "python",
   "nbconvert_exporter": "python",
   "pygments_lexer": "ipython3",
   "version": "3.9.6"
  }
 },
 "nbformat": 4,
 "nbformat_minor": 2
}
